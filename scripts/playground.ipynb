{
 "cells": [
  {
   "cell_type": "code",
   "execution_count": null,
   "metadata": {},
   "outputs": [],
   "source": [
    "from ulid import new\n",
    "\n",
    "from immaterialdb.config import ImmaterialModel\n",
    "\n",
    "str(new())\n",
    "\n",
    "\n",
    "class Cool(ImmaterialModel):\n",
    "    name: str\n",
    "\n",
    "\n",
    "c = Cool(name=\"cool\")\n",
    "\n",
    "\n",
    "\n"
   ]
  },
  {
   "cell_type": "code",
   "execution_count": null,
   "metadata": {},
   "outputs": [],
   "source": [
    "from datetime import datetime\n",
    "\n",
    "c.name = \"cool\""
   ]
  },
  {
   "cell_type": "code",
   "execution_count": null,
   "metadata": {},
   "outputs": [],
   "source": [
    "print(c.model_dump_json(indent=2))"
   ]
  },
  {
   "cell_type": "code",
   "execution_count": null,
   "metadata": {},
   "outputs": [],
   "source": [
    "from pydantic import BaseModel\n",
    "\n",
    "\n",
    "class Whoah(BaseModel):\n",
    "    name: str\n",
    "\n",
    "class Umm(Whoah):\n",
    "    @property\n",
    "    def name(self):\n",
    "        return f\"cool\"\n",
    "\n",
    "Umm().dict()"
   ]
  }
 ],
 "metadata": {
  "kernelspec": {
   "display_name": "immaterialdb-de87u3De-python",
   "language": "python",
   "name": "python3"
  },
  "language_info": {
   "codemirror_mode": {
    "name": "ipython",
    "version": 3
   },
   "file_extension": ".py",
   "mimetype": "text/x-python",
   "name": "python",
   "nbconvert_exporter": "python",
   "pygments_lexer": "ipython3",
   "version": "3.12.3"
  }
 },
 "nbformat": 4,
 "nbformat_minor": 2
}
