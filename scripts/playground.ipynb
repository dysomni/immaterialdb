{
 "cells": [
  {
   "cell_type": "code",
   "execution_count": 1,
   "metadata": {},
   "outputs": [],
   "source": [
    "from ulid import new\n",
    "\n",
    "from immaterialdb.config import ImmaterialModel\n",
    "\n",
    "str(new())\n",
    "\n",
    "\n",
    "class Cool(ImmaterialModel):\n",
    "    name: str\n",
    "\n",
    "\n",
    "c = Cool(name=\"cool\")\n",
    "\n",
    "\n",
    "\n"
   ]
  },
  {
   "cell_type": "code",
   "execution_count": 15,
   "metadata": {},
   "outputs": [],
   "source": [
    "from datetime import datetime\n",
    "\n",
    "c.name = \"cool\""
   ]
  },
  {
   "cell_type": "code",
   "execution_count": 17,
   "metadata": {},
   "outputs": [
    {
     "name": "stdout",
     "output_type": "stream",
     "text": [
      "{\n",
      "  \"id\": \"01J5YN2CEQHEXNPZ46WD63342T\",\n",
      "  \"created_at\": \"2024-08-22T23:39:24.596133\",\n",
      "  \"updated_at\": \"2024-08-23T03:40:02.978504Z\",\n",
      "  \"updated_hash\": \"0ff0588825afe7cb4bb2f5f2af21b433\",\n",
      "  \"name\": \"cool\"\n",
      "}\n"
     ]
    }
   ],
   "source": [
    "print(c.model_dump_json(indent=2))"
   ]
  },
  {
   "cell_type": "code",
   "execution_count": 19,
   "metadata": {},
   "outputs": [
    {
     "name": "stderr",
     "output_type": "stream",
     "text": [
      "/Users/dysomni/.local/share/virtualenvs/immaterialdb-de87u3De-python/lib/python3.12/site-packages/pydantic/main.py:364: UserWarning: Pydantic serializer warnings:\n",
      "  Expected `str` but got `property` - serialized value may not be as expected\n",
      "  return self.__pydantic_serializer__.to_python(\n"
     ]
    },
    {
     "data": {
      "text/plain": [
       "{'name': <property at 0x1059b7e70>}"
      ]
     },
     "execution_count": 19,
     "metadata": {},
     "output_type": "execute_result"
    }
   ],
   "source": [
    "from pydantic import BaseModel\n",
    "\n",
    "\n",
    "class Whoah(BaseModel):\n",
    "    name: str\n",
    "\n",
    "class Umm(Whoah):\n",
    "    @property\n",
    "    def name(self):\n",
    "        return f\"cool\"\n",
    "\n",
    "Umm().dict()"
   ]
  }
 ],
 "metadata": {
  "kernelspec": {
   "display_name": "immaterialdb-de87u3De-python",
   "language": "python",
   "name": "python3"
  },
  "language_info": {
   "codemirror_mode": {
    "name": "ipython",
    "version": 3
   },
   "file_extension": ".py",
   "mimetype": "text/x-python",
   "name": "python",
   "nbconvert_exporter": "python",
   "pygments_lexer": "ipython3",
   "version": "3.12.3"
  }
 },
 "nbformat": 4,
 "nbformat_minor": 2
}
